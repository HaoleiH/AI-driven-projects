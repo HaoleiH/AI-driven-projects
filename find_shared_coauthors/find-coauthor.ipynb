{
 "cells": [
  {
   "cell_type": "markdown",
   "metadata": {},
   "source": [
    "# find coauthor between 2 scientists\n",
    "\n",
    "This notebook shows one example to visualize the relations between two scientist by using google scholar data obtained by [scholarly](https://pypi.org/project/scholarly/)  "
   ]
  },
  {
   "cell_type": "code",
   "execution_count": 1,
   "metadata": {
    "execution": {
     "iopub.execute_input": "2025-01-02T04:33:15.888592Z",
     "iopub.status.busy": "2025-01-02T04:33:15.888203Z",
     "iopub.status.idle": "2025-01-02T04:33:36.994555Z",
     "shell.execute_reply": "2025-01-02T04:33:36.993244Z",
     "shell.execute_reply.started": "2025-01-02T04:33:15.888557Z"
    },
    "trusted": true
   },
   "outputs": [
    {
     "name": "stdout",
     "output_type": "stream",
     "text": [
      "Collecting scholarly\n",
      "  Downloading scholarly-1.7.11-py3-none-any.whl.metadata (7.4 kB)\n",
      "Collecting streamlit-agraph\n",
      "  Downloading streamlit_agraph-0.0.45-py3-none-any.whl.metadata (3.2 kB)\n",
      "Collecting pyngrok\n",
      "  Downloading pyngrok-7.2.2-py3-none-any.whl.metadata (8.4 kB)\n",
      "Collecting httpx==0.27.2\n",
      "  Downloading httpx-0.27.2-py3-none-any.whl.metadata (7.1 kB)\n",
      "Requirement already satisfied: anyio in /usr/local/lib/python3.10/dist-packages (from httpx==0.27.2) (3.7.1)\n",
      "Requirement already satisfied: certifi in /usr/local/lib/python3.10/dist-packages (from httpx==0.27.2) (2024.8.30)\n",
      "Collecting httpcore==1.* (from httpx==0.27.2)\n",
      "  Downloading httpcore-1.0.7-py3-none-any.whl.metadata (21 kB)\n",
      "Requirement already satisfied: idna in /usr/local/lib/python3.10/dist-packages (from httpx==0.27.2) (3.10)\n",
      "Requirement already satisfied: sniffio in /usr/local/lib/python3.10/dist-packages (from httpx==0.27.2) (1.3.1)\n",
      "Collecting h11<0.15,>=0.13 (from httpcore==1.*->httpx==0.27.2)\n",
      "  Downloading h11-0.14.0-py3-none-any.whl.metadata (8.2 kB)\n",
      "Requirement already satisfied: arrow in /usr/local/lib/python3.10/dist-packages (from scholarly) (1.3.0)\n",
      "Requirement already satisfied: beautifulsoup4 in /usr/local/lib/python3.10/dist-packages (from scholarly) (4.12.3)\n",
      "Collecting bibtexparser (from scholarly)\n",
      "  Downloading bibtexparser-1.4.3.tar.gz (55 kB)\n",
      "\u001b[2K     \u001b[90m━━━━━━━━━━━━━━━━━━━━━━━━━━━━━━━━━━━━━━━━\u001b[0m \u001b[32m55.6/55.6 kB\u001b[0m \u001b[31m2.2 MB/s\u001b[0m eta \u001b[36m0:00:00\u001b[0m\n",
      "\u001b[?25h  Preparing metadata (setup.py) ... \u001b[?25l\u001b[?25hdone\n",
      "Requirement already satisfied: deprecated in /usr/local/lib/python3.10/dist-packages (from scholarly) (1.2.15)\n",
      "Collecting fake-useragent (from scholarly)\n",
      "  Downloading fake_useragent-2.0.3-py3-none-any.whl.metadata (17 kB)\n",
      "Collecting free-proxy (from scholarly)\n",
      "  Downloading free_proxy-1.1.3.tar.gz (5.6 kB)\n",
      "  Preparing metadata (setup.py) ... \u001b[?25l\u001b[?25hdone\n",
      "Collecting python-dotenv (from scholarly)\n",
      "  Downloading python_dotenv-1.0.1-py3-none-any.whl.metadata (23 kB)\n",
      "Requirement already satisfied: requests[socks] in /usr/local/lib/python3.10/dist-packages (from scholarly) (2.32.3)\n",
      "Collecting selenium (from scholarly)\n",
      "  Downloading selenium-4.27.1-py3-none-any.whl.metadata (7.1 kB)\n",
      "Requirement already satisfied: sphinx-rtd-theme in /usr/local/lib/python3.10/dist-packages (from scholarly) (0.2.4)\n",
      "Requirement already satisfied: typing-extensions in /usr/local/lib/python3.10/dist-packages (from scholarly) (4.12.2)\n",
      "Collecting stem (from scholarly[tor])\n",
      "  Downloading stem-1.8.2.tar.gz (2.9 MB)\n",
      "\u001b[2K     \u001b[90m━━━━━━━━━━━━━━━━━━━━━━━━━━━━━━━━━━━━━━━━\u001b[0m \u001b[32m2.9/2.9 MB\u001b[0m \u001b[31m54.2 MB/s\u001b[0m eta \u001b[36m0:00:00\u001b[0m:00:01\u001b[0m\n",
      "\u001b[?25h  Preparing metadata (setup.py) ... \u001b[?25l\u001b[?25hdone\n",
      "Collecting streamlit>=0.63 (from streamlit-agraph)\n",
      "  Downloading streamlit-1.41.1-py2.py3-none-any.whl.metadata (8.5 kB)\n",
      "Requirement already satisfied: networkx>=2.5 in /usr/local/lib/python3.10/dist-packages (from streamlit-agraph) (3.3)\n",
      "Collecting rdflib>=6.0.2 (from streamlit-agraph)\n",
      "  Downloading rdflib-7.1.1-py3-none-any.whl.metadata (11 kB)\n",
      "Requirement already satisfied: PyYAML>=5.1 in /usr/local/lib/python3.10/dist-packages (from pyngrok) (6.0.2)\n",
      "Collecting isodate<1.0.0,>=0.7.2 (from rdflib>=6.0.2->streamlit-agraph)\n",
      "  Downloading isodate-0.7.2-py3-none-any.whl.metadata (11 kB)\n",
      "Requirement already satisfied: pyparsing<4,>=2.1.0 in /usr/local/lib/python3.10/dist-packages (from rdflib>=6.0.2->streamlit-agraph) (3.1.4)\n",
      "Requirement already satisfied: altair<6,>=4.0 in /usr/local/lib/python3.10/dist-packages (from streamlit>=0.63->streamlit-agraph) (5.5.0)\n",
      "Requirement already satisfied: blinker<2,>=1.0.0 in /usr/lib/python3/dist-packages (from streamlit>=0.63->streamlit-agraph) (1.4)\n",
      "Requirement already satisfied: cachetools<6,>=4.0 in /usr/local/lib/python3.10/dist-packages (from streamlit>=0.63->streamlit-agraph) (5.5.0)\n",
      "Requirement already satisfied: click<9,>=7.0 in /usr/local/lib/python3.10/dist-packages (from streamlit>=0.63->streamlit-agraph) (8.1.7)\n",
      "Requirement already satisfied: numpy<3,>=1.23 in /usr/local/lib/python3.10/dist-packages (from streamlit>=0.63->streamlit-agraph) (1.26.4)\n",
      "Requirement already satisfied: packaging<25,>=20 in /usr/local/lib/python3.10/dist-packages (from streamlit>=0.63->streamlit-agraph) (24.1)\n",
      "Requirement already satisfied: pandas<3,>=1.4.0 in /usr/local/lib/python3.10/dist-packages (from streamlit>=0.63->streamlit-agraph) (2.1.4)\n",
      "Requirement already satisfied: pillow<12,>=7.1.0 in /usr/local/lib/python3.10/dist-packages (from streamlit>=0.63->streamlit-agraph) (10.4.0)\n",
      "Requirement already satisfied: protobuf<6,>=3.20 in /usr/local/lib/python3.10/dist-packages (from streamlit>=0.63->streamlit-agraph) (3.20.3)\n",
      "Requirement already satisfied: pyarrow>=7.0 in /usr/local/lib/python3.10/dist-packages (from streamlit>=0.63->streamlit-agraph) (18.1.0)\n",
      "Requirement already satisfied: rich<14,>=10.14.0 in /usr/local/lib/python3.10/dist-packages (from streamlit>=0.63->streamlit-agraph) (13.8.1)\n",
      "Requirement already satisfied: tenacity<10,>=8.1.0 in /usr/local/lib/python3.10/dist-packages (from streamlit>=0.63->streamlit-agraph) (9.0.0)\n",
      "Requirement already satisfied: toml<2,>=0.10.1 in /usr/local/lib/python3.10/dist-packages (from streamlit>=0.63->streamlit-agraph) (0.10.2)\n",
      "Requirement already satisfied: watchdog<7,>=2.1.5 in /usr/local/lib/python3.10/dist-packages (from streamlit>=0.63->streamlit-agraph) (6.0.0)\n",
      "Requirement already satisfied: gitpython!=3.1.19,<4,>=3.0.7 in /usr/local/lib/python3.10/dist-packages (from streamlit>=0.63->streamlit-agraph) (3.1.43)\n",
      "Collecting pydeck<1,>=0.8.0b4 (from streamlit>=0.63->streamlit-agraph)\n",
      "  Downloading pydeck-0.9.1-py2.py3-none-any.whl.metadata (4.1 kB)\n",
      "Requirement already satisfied: tornado<7,>=6.0.3 in /usr/local/lib/python3.10/dist-packages (from streamlit>=0.63->streamlit-agraph) (6.3.3)\n",
      "Requirement already satisfied: exceptiongroup in /usr/local/lib/python3.10/dist-packages (from anyio->httpx==0.27.2) (1.2.2)\n",
      "Requirement already satisfied: python-dateutil>=2.7.0 in /usr/local/lib/python3.10/dist-packages (from arrow->scholarly) (2.8.2)\n",
      "Requirement already satisfied: types-python-dateutil>=2.8.10 in /usr/local/lib/python3.10/dist-packages (from arrow->scholarly) (2.9.0.20241206)\n",
      "Requirement already satisfied: soupsieve>1.2 in /usr/local/lib/python3.10/dist-packages (from beautifulsoup4->scholarly) (2.6)\n",
      "Requirement already satisfied: wrapt<2,>=1.10 in /usr/local/lib/python3.10/dist-packages (from deprecated->scholarly) (1.16.0)\n",
      "Requirement already satisfied: lxml in /usr/local/lib/python3.10/dist-packages (from free-proxy->scholarly) (4.9.4)\n",
      "Requirement already satisfied: charset-normalizer<4,>=2 in /usr/local/lib/python3.10/dist-packages (from requests[socks]->scholarly) (3.3.2)\n",
      "Requirement already satisfied: urllib3<3,>=1.21.1 in /usr/local/lib/python3.10/dist-packages (from requests[socks]->scholarly) (2.2.3)\n",
      "Requirement already satisfied: PySocks!=1.5.7,>=1.5.6 in /usr/local/lib/python3.10/dist-packages (from requests[socks]->scholarly) (1.7.1)\n",
      "Collecting trio~=0.17 (from selenium->scholarly)\n",
      "  Downloading trio-0.28.0-py3-none-any.whl.metadata (8.5 kB)\n",
      "Collecting trio-websocket~=0.9 (from selenium->scholarly)\n",
      "  Downloading trio_websocket-0.11.1-py3-none-any.whl.metadata (4.7 kB)\n",
      "Requirement already satisfied: websocket-client~=1.8 in /usr/local/lib/python3.10/dist-packages (from selenium->scholarly) (1.8.0)\n",
      "Requirement already satisfied: jinja2 in /usr/local/lib/python3.10/dist-packages (from altair<6,>=4.0->streamlit>=0.63->streamlit-agraph) (3.1.4)\n",
      "Requirement already satisfied: jsonschema>=3.0 in /usr/local/lib/python3.10/dist-packages (from altair<6,>=4.0->streamlit>=0.63->streamlit-agraph) (4.23.0)\n",
      "Requirement already satisfied: narwhals>=1.14.2 in /usr/local/lib/python3.10/dist-packages (from altair<6,>=4.0->streamlit>=0.63->streamlit-agraph) (1.18.4)\n",
      "Requirement already satisfied: gitdb<5,>=4.0.1 in /usr/local/lib/python3.10/dist-packages (from gitpython!=3.1.19,<4,>=3.0.7->streamlit>=0.63->streamlit-agraph) (4.0.11)\n",
      "Requirement already satisfied: pytz>=2020.1 in /usr/local/lib/python3.10/dist-packages (from pandas<3,>=1.4.0->streamlit>=0.63->streamlit-agraph) (2024.2)\n",
      "Requirement already satisfied: tzdata>=2022.1 in /usr/local/lib/python3.10/dist-packages (from pandas<3,>=1.4.0->streamlit>=0.63->streamlit-agraph) (2024.1)\n",
      "Requirement already satisfied: six>=1.5 in /usr/local/lib/python3.10/dist-packages (from python-dateutil>=2.7.0->arrow->scholarly) (1.16.0)\n",
      "Requirement already satisfied: markdown-it-py>=2.2.0 in /usr/local/lib/python3.10/dist-packages (from rich<14,>=10.14.0->streamlit>=0.63->streamlit-agraph) (3.0.0)\n",
      "Requirement already satisfied: pygments<3.0.0,>=2.13.0 in /usr/local/lib/python3.10/dist-packages (from rich<14,>=10.14.0->streamlit>=0.63->streamlit-agraph) (2.18.0)\n",
      "Requirement already satisfied: attrs>=23.2.0 in /usr/local/lib/python3.10/dist-packages (from trio~=0.17->selenium->scholarly) (24.2.0)\n",
      "Requirement already satisfied: sortedcontainers in /usr/local/lib/python3.10/dist-packages (from trio~=0.17->selenium->scholarly) (2.4.0)\n",
      "Collecting outcome (from trio~=0.17->selenium->scholarly)\n",
      "  Downloading outcome-1.3.0.post0-py2.py3-none-any.whl.metadata (2.6 kB)\n",
      "Collecting wsproto>=0.14 (from trio-websocket~=0.9->selenium->scholarly)\n",
      "  Downloading wsproto-1.2.0-py3-none-any.whl.metadata (5.6 kB)\n",
      "Requirement already satisfied: smmap<6,>=3.0.1 in /usr/local/lib/python3.10/dist-packages (from gitdb<5,>=4.0.1->gitpython!=3.1.19,<4,>=3.0.7->streamlit>=0.63->streamlit-agraph) (5.0.1)\n",
      "Requirement already satisfied: MarkupSafe>=2.0 in /usr/local/lib/python3.10/dist-packages (from jinja2->altair<6,>=4.0->streamlit>=0.63->streamlit-agraph) (2.1.5)\n",
      "Requirement already satisfied: jsonschema-specifications>=2023.03.6 in /usr/local/lib/python3.10/dist-packages (from jsonschema>=3.0->altair<6,>=4.0->streamlit>=0.63->streamlit-agraph) (2023.12.1)\n",
      "Requirement already satisfied: referencing>=0.28.4 in /usr/local/lib/python3.10/dist-packages (from jsonschema>=3.0->altair<6,>=4.0->streamlit>=0.63->streamlit-agraph) (0.35.1)\n",
      "Requirement already satisfied: rpds-py>=0.7.1 in /usr/local/lib/python3.10/dist-packages (from jsonschema>=3.0->altair<6,>=4.0->streamlit>=0.63->streamlit-agraph) (0.20.0)\n",
      "Requirement already satisfied: mdurl~=0.1 in /usr/local/lib/python3.10/dist-packages (from markdown-it-py>=2.2.0->rich<14,>=10.14.0->streamlit>=0.63->streamlit-agraph) (0.1.2)\n",
      "Downloading httpx-0.27.2-py3-none-any.whl (76 kB)\n",
      "\u001b[2K   \u001b[90m━━━━━━━━━━━━━━━━━━━━━━━━━━━━━━━━━━━━━━━━\u001b[0m \u001b[32m76.4/76.4 kB\u001b[0m \u001b[31m3.2 MB/s\u001b[0m eta \u001b[36m0:00:00\u001b[0m\n",
      "\u001b[?25hDownloading httpcore-1.0.7-py3-none-any.whl (78 kB)\n",
      "\u001b[2K   \u001b[90m━━━━━━━━━━━━━━━━━━━━━━━━━━━━━━━━━━━━━━━━\u001b[0m \u001b[32m78.6/78.6 kB\u001b[0m \u001b[31m4.1 MB/s\u001b[0m eta \u001b[36m0:00:00\u001b[0m\n",
      "\u001b[?25hDownloading scholarly-1.7.11-py3-none-any.whl (39 kB)\n",
      "Downloading streamlit_agraph-0.0.45-py3-none-any.whl (1.3 MB)\n",
      "\u001b[2K   \u001b[90m━━━━━━━━━━━━━━━━━━━━━━━━━━━━━━━━━━━━━━━━\u001b[0m \u001b[32m1.3/1.3 MB\u001b[0m \u001b[31m36.1 MB/s\u001b[0m eta \u001b[36m0:00:00\u001b[0m:00:01\u001b[0m\n",
      "\u001b[?25hDownloading pyngrok-7.2.2-py3-none-any.whl (22 kB)\n",
      "Downloading rdflib-7.1.1-py3-none-any.whl (562 kB)\n",
      "\u001b[2K   \u001b[90m━━━━━━━━━━━━━━━━━━━━━━━━━━━━━━━━━━━━━━━━\u001b[0m \u001b[32m562.4/562.4 kB\u001b[0m \u001b[31m24.8 MB/s\u001b[0m eta \u001b[36m0:00:00\u001b[0m\n",
      "\u001b[?25hDownloading streamlit-1.41.1-py2.py3-none-any.whl (9.1 MB)\n",
      "\u001b[2K   \u001b[90m━━━━━━━━━━━━━━━━━━━━━━━━━━━━━━━━━━━━━━━━\u001b[0m \u001b[32m9.1/9.1 MB\u001b[0m \u001b[31m79.6 MB/s\u001b[0m eta \u001b[36m0:00:00\u001b[0m:00:01\u001b[0m00:01\u001b[0m\n",
      "\u001b[?25hDownloading fake_useragent-2.0.3-py3-none-any.whl (201 kB)\n",
      "\u001b[2K   \u001b[90m━━━━━━━━━━━━━━━━━━━━━━━━━━━━━━━━━━━━━━━━\u001b[0m \u001b[32m201.1/201.1 kB\u001b[0m \u001b[31m9.7 MB/s\u001b[0m eta \u001b[36m0:00:00\u001b[0m\n",
      "\u001b[?25hDownloading python_dotenv-1.0.1-py3-none-any.whl (19 kB)\n",
      "Downloading selenium-4.27.1-py3-none-any.whl (9.7 MB)\n",
      "\u001b[2K   \u001b[90m━━━━━━━━━━━━━━━━━━━━━━━━━━━━━━━━━━━━━━━━\u001b[0m \u001b[32m9.7/9.7 MB\u001b[0m \u001b[31m80.1 MB/s\u001b[0m eta \u001b[36m0:00:00\u001b[0m:00:01\u001b[0m00:01\u001b[0m\n",
      "\u001b[?25hDownloading h11-0.14.0-py3-none-any.whl (58 kB)\n",
      "\u001b[2K   \u001b[90m━━━━━━━━━━━━━━━━━━━━━━━━━━━━━━━━━━━━━━━━\u001b[0m \u001b[32m58.3/58.3 kB\u001b[0m \u001b[31m2.4 MB/s\u001b[0m eta \u001b[36m0:00:00\u001b[0m\n",
      "\u001b[?25hDownloading isodate-0.7.2-py3-none-any.whl (22 kB)\n",
      "Downloading pydeck-0.9.1-py2.py3-none-any.whl (6.9 MB)\n",
      "\u001b[2K   \u001b[90m━━━━━━━━━━━━━━━━━━━━━━━━━━━━━━━━━━━━━━━━\u001b[0m \u001b[32m6.9/6.9 MB\u001b[0m \u001b[31m75.5 MB/s\u001b[0m eta \u001b[36m0:00:00\u001b[0m:00:01\u001b[0m00:01\u001b[0m\n",
      "\u001b[?25hDownloading trio-0.28.0-py3-none-any.whl (486 kB)\n",
      "\u001b[2K   \u001b[90m━━━━━━━━━━━━━━━━━━━━━━━━━━━━━━━━━━━━━━━━\u001b[0m \u001b[32m486.3/486.3 kB\u001b[0m \u001b[31m20.1 MB/s\u001b[0m eta \u001b[36m0:00:00\u001b[0m\n",
      "\u001b[?25hDownloading trio_websocket-0.11.1-py3-none-any.whl (17 kB)\n",
      "Downloading wsproto-1.2.0-py3-none-any.whl (24 kB)\n",
      "Downloading outcome-1.3.0.post0-py2.py3-none-any.whl (10 kB)\n",
      "Building wheels for collected packages: bibtexparser, free-proxy, stem\n",
      "  Building wheel for bibtexparser (setup.py) ... \u001b[?25l\u001b[?25hdone\n",
      "  Created wheel for bibtexparser: filename=bibtexparser-1.4.3-py3-none-any.whl size=43550 sha256=9db954ffba6912b317ea339b227ff52015447b1eb7872cec09bb12f016fa146e\n",
      "  Stored in directory: /root/.cache/pip/wheels/31/9c/e2/471fa4752a2d99ddca152d75b53a2eaf38675145ba1d26ac0f\n",
      "  Building wheel for free-proxy (setup.py) ... \u001b[?25l\u001b[?25hdone\n",
      "  Created wheel for free-proxy: filename=free_proxy-1.1.3-py3-none-any.whl size=6097 sha256=d2f2be3017c31731044e498e811308c28b7be33bbc054123ef159729778a1d67\n",
      "  Stored in directory: /root/.cache/pip/wheels/95/45/0e/36fc27d383f76ec4e6f876c6584102b5ab6146ae535735a1ea\n",
      "  Building wheel for stem (setup.py) ... \u001b[?25l\u001b[?25hdone\n",
      "  Created wheel for stem: filename=stem-1.8.2-py3-none-any.whl size=436205 sha256=5e5670d3d03cff06770e2c3eb9489ff746d350c27dc8e3e92d81295a26948bad\n",
      "  Stored in directory: /root/.cache/pip/wheels/4e/f3/41/2af9219109ac95b19b149169b0a8c99c714c021cb82e813498\n",
      "Successfully built bibtexparser free-proxy stem\n",
      "Installing collected packages: stem, python-dotenv, pyngrok, outcome, isodate, h11, fake-useragent, bibtexparser, wsproto, trio, rdflib, pydeck, httpcore, free-proxy, trio-websocket, httpx, selenium, streamlit, scholarly, streamlit-agraph\n",
      "Successfully installed bibtexparser-1.4.3 fake-useragent-2.0.3 free-proxy-1.1.3 h11-0.14.0 httpcore-1.0.7 httpx-0.27.2 isodate-0.7.2 outcome-1.3.0.post0 pydeck-0.9.1 pyngrok-7.2.2 python-dotenv-1.0.1 rdflib-7.1.1 scholarly-1.7.11 selenium-4.27.1 stem-1.8.2 streamlit-1.41.1 streamlit-agraph-0.0.45 trio-0.28.0 trio-websocket-0.11.1 wsproto-1.2.0\n",
      "Note: you may need to restart the kernel to use updated packages.\n"
     ]
    }
   ],
   "source": [
    "%pip install scholarly scholarly[tor] streamlit-agraph pyngrok  httpx==0.27.2"
   ]
  },
  {
   "cell_type": "markdown",
   "metadata": {},
   "source": [
    "# write code to a .py file\n",
    "streamlit need to run with local .py file"
   ]
  },
  {
   "cell_type": "code",
   "execution_count": 6,
   "metadata": {
    "execution": {
     "iopub.execute_input": "2025-01-02T04:42:13.360354Z",
     "iopub.status.busy": "2025-01-02T04:42:13.359928Z",
     "iopub.status.idle": "2025-01-02T04:42:13.368312Z",
     "shell.execute_reply": "2025-01-02T04:42:13.366877Z",
     "shell.execute_reply.started": "2025-01-02T04:42:13.360313Z"
    },
    "trusted": true
   },
   "outputs": [
    {
     "name": "stdout",
     "output_type": "stream",
     "text": [
      "Overwriting app.py\n"
     ]
    }
   ],
   "source": [
    "%%writefile app.py\n",
    "import streamlit as st\n",
    "from scholarly import scholarly, ProxyGenerator\n",
    "from streamlit_agraph import agraph, Config, Node, Edge\n",
    "\n",
    "# Set up proxy to avoid being banned by Google Scholar\n",
    "# this will slow down the speed of excution\n",
    "#pg = ProxyGenerator()\n",
    "#pg.FreeProxies()\n",
    "#scholarly.use_proxy(pg)\n",
    "\n",
    "# Function to fetch co-authors for a researcher\n",
    "def get_coauthors(name):\n",
    "    try:\n",
    "        search_query = scholarly.search_author(name)\n",
    "        author = next(search_query, None)\n",
    "        if author:\n",
    "            detailed_author = scholarly.fill(author, sections=[\"coauthors\"])\n",
    "            coauthors = detailed_author.get(\"coauthors\", [])\n",
    "            return {coauthor[\"name\"] for coauthor in coauthors}\n",
    "        else:\n",
    "            st.warning(f\"No author found for the name: {name}\")\n",
    "            return set()\n",
    "    except Exception as e:\n",
    "        st.error(f\"Error fetching co-authors: {e}\")\n",
    "        return set()\n",
    "\n",
    "# Streamlit app\n",
    "def main():\n",
    "    st.title(\"Shared Co-authors Flowchart\")\n",
    "    \n",
    "    # Input for researcher names\n",
    "    name1 = st.text_input(\"Enter the first researcher's name\")\n",
    "    name2 = st.text_input(\"Enter the second researcher's name\")\n",
    "\n",
    "    # Initialize session state for nodes and edges\n",
    "    if \"nodes\" not in st.session_state:\n",
    "        st.session_state.nodes = []\n",
    "    if \"edges\" not in st.session_state:\n",
    "        st.session_state.edges = []\n",
    "\n",
    "    if st.button(\"Generate Flowchart\"):\n",
    "        if name1 and name2:\n",
    "            st.info(\"Searching for coauthors... This may take a few moments.\")\n",
    "            coauthors1 = get_coauthors(name1)\n",
    "            coauthors2 = get_coauthors(name2)\n",
    "\n",
    "            # Find shared co-authors\n",
    "            shared_coauthors = coauthors1 & coauthors2\n",
    "            \n",
    "            # Clear previous nodes and edges\n",
    "            st.session_state.nodes = [\n",
    "                Node(id=name1, label=name1, color=\"blue\"),\n",
    "                Node(id=name2, label=name2, color=\"red\"),\n",
    "            ]\n",
    "            st.session_state.edges = []\n",
    "\n",
    "            # Add shared coauthors\n",
    "            for coauthor in shared_coauthors:\n",
    "                st.session_state.nodes.append(Node(id=coauthor, label=coauthor, color=\"green\"))\n",
    "                st.session_state.edges.append(Edge(source=name1, target=coauthor))\n",
    "                st.session_state.edges.append(Edge(source=name2, target=coauthor))\n",
    "\n",
    "            # Add unique coauthors for name1\n",
    "            for coauthor in coauthors1 - shared_coauthors:\n",
    "                st.session_state.nodes.append(Node(id=coauthor, label=coauthor, color=\"lightblue\"))\n",
    "                st.session_state.edges.append(Edge(source=name1, target=coauthor))\n",
    "\n",
    "            # Add unique coauthors for name2\n",
    "            for coauthor in coauthors2 - shared_coauthors:\n",
    "                st.session_state.nodes.append(Node(id=coauthor, label=coauthor, color=\"pink\"))\n",
    "                st.session_state.edges.append(Edge(source=name2, target=coauthor))\n",
    "\n",
    "    # Display flowchart\n",
    "    config = Config(width=1600, height=900, directed=False, physics=True)\n",
    "    st.subheader(\"Coauthor Connection Graph\")\n",
    "    agraph(\n",
    "        nodes=st.session_state.nodes,\n",
    "        edges=st.session_state.edges,\n",
    "        config=config,\n",
    "    )\n",
    "\n",
    "if __name__ == \"__main__\":\n",
    "    main()"
   ]
  },
  {
   "cell_type": "markdown",
   "metadata": {},
   "source": [
    "# run the app"
   ]
  },
  {
   "cell_type": "markdown",
   "metadata": {},
   "source": [
    "## ignore this part if you are running this code locally\n",
    "if you are running this notebook locally, ignore this part. otherwise you need to use ngrok to expose the port to public. a ngrok spi key is needed for this."
   ]
  },
  {
   "cell_type": "code",
   "execution_count": 4,
   "metadata": {
    "execution": {
     "iopub.execute_input": "2025-01-02T04:39:11.855476Z",
     "iopub.status.busy": "2025-01-02T04:39:11.855135Z",
     "iopub.status.idle": "2025-01-02T04:39:14.715683Z",
     "shell.execute_reply": "2025-01-02T04:39:14.714229Z",
     "shell.execute_reply.started": "2025-01-02T04:39:11.855449Z"
    },
    "trusted": true
   },
   "outputs": [
    {
     "name": "stdout",
     "output_type": "stream",
     "text": [
      "NgrokTunnel: \"https://8852-34-78-48-7.ngrok-free.app\" -> \"http://localhost:8501\"                    \n"
     ]
    }
   ],
   "source": [
    "# only run this if you are runnning it in kaggle or colab.\n",
    "from pyngrok import ngrok\n",
    "from kaggle_secrets import UserSecretsClient\n",
    "user_secrets = UserSecretsClient()\n",
    "secret_value_0 = user_secrets.get_secret(\"ngrok_auth_key\")\n",
    "\n",
    "\n",
    "ngrok.set_auth_token(secret_value_0)\n",
    "public_url = ngrok.connect(8501) # Expose port 8501\n",
    "print(public_url)"
   ]
  },
  {
   "cell_type": "markdown",
   "metadata": {},
   "source": [
    "## run the code"
   ]
  },
  {
   "cell_type": "code",
   "execution_count": 5,
   "metadata": {
    "execution": {
     "iopub.execute_input": "2025-01-02T04:39:17.150454Z",
     "iopub.status.busy": "2025-01-02T04:39:17.149940Z",
     "iopub.status.idle": "2025-01-02T04:42:13.358009Z",
     "shell.execute_reply": "2025-01-02T04:42:13.356767Z",
     "shell.execute_reply.started": "2025-01-02T04:39:17.150404Z"
    },
    "trusted": true
   },
   "outputs": [
    {
     "name": "stdout",
     "output_type": "stream",
     "text": [
      "\n",
      "Collecting usage statistics. To deactivate, set browser.gatherUsageStats to false.\n",
      "\u001b[0m\n",
      "\u001b[0m\n",
      "\u001b[34m\u001b[1m  You can now view your Streamlit app in your browser.\u001b[0m\n",
      "\u001b[0m\n",
      "\u001b[34m  Local URL: \u001b[0m\u001b[1mhttp://localhost:8501\u001b[0m\n",
      "\u001b[34m  Network URL: \u001b[0m\u001b[1mhttp://172.19.2.2:8501\u001b[0m\n",
      "\u001b[34m  External URL: \u001b[0m\u001b[1mhttp://34.78.48.7:8501\u001b[0m\n",
      "\u001b[0m\n",
      "^C\n",
      "\u001b[34m  Stopping...\u001b[0m\n"
     ]
    }
   ],
   "source": [
    "!streamlit run app.py "
   ]
  },
  {
   "cell_type": "code",
   "execution_count": null,
   "metadata": {
    "trusted": true
   },
   "outputs": [],
   "source": []
  }
 ],
 "metadata": {
  "kernelspec": {
   "display_name": "Python 3",
   "language": "python",
   "name": "python3"
  },
  "language_info": {
   "codemirror_mode": {
    "name": "ipython",
    "version": 3
   },
   "file_extension": ".py",
   "mimetype": "text/x-python",
   "name": "python",
   "nbconvert_exporter": "python",
   "pygments_lexer": "ipython3",
   "version": "3.10.12"
  }
 },
 "nbformat": 4,
 "nbformat_minor": 4
}
